{
 "cells": [
  {
   "cell_type": "markdown",
   "metadata": {},
   "source": [
    "# ETL Entity and Topic Extraction\n",
    "\n",
    "This notebook will aim to extract important topics from documents all documents. \n",
    "The output will be a cleaned dataset containing all text content for analysis."
   ]
  },
  {
   "cell_type": "code",
   "execution_count": 8,
   "metadata": {},
   "outputs": [],
   "source": [
    "import sys\n",
    "\n",
    "sys.path.append(r'c:\\users\\owner\\appdata\\roaming\\python\\python37\\site-packages')\n",
    "sys.path.append(r'..\\tools')\n",
    "\n",
    "\n",
    "import scispacy\n",
    "from scispacy.abbreviation import AbbreviationDetector\n",
    "import spacy\n",
    "import pandas as pd\n",
    "import json\n",
    "import os\n",
    "import re\n",
    "from tqdm.notebook import tqdm\n",
    "from rake_nltk import Rake\n",
    "from spacy.matcher import Matcher \n",
    "import en_core_web_lg\n",
    "\n",
    "from nltk.stem import WordNetLemmatizer \n",
    "import nltk\n",
    "                \n",
    "from loading.document import document\n",
    "from NER.tripple_extract import get_entity_pairs\n",
    "from concurrent import futures\n",
    "\n",
    "from multiprocessing import Pool\n",
    "\n",
    "\n",
    "\n"
   ]
  },
  {
   "cell_type": "markdown",
   "metadata": {},
   "source": [
    "## Identify and load file directories"
   ]
  },
  {
   "cell_type": "code",
   "execution_count": 9,
   "metadata": {},
   "outputs": [],
   "source": [
    "directories = ['../data/biorxiv_medrxiv/', '../data/comm_use_subset/','../data/custom_license/', '../data/noncomm_use_subset/']"
   ]
  },
  {
   "cell_type": "code",
   "execution_count": 10,
   "metadata": {},
   "outputs": [],
   "source": [
    "files = []\n",
    "for directory in directories:\n",
    "    for (dirpath, dirnames, filenames) in os.walk(directory):\n",
    "        filenames = [names for names in filenames if '.json' in names]\n",
    "        if filenames != []:\n",
    "            files.append({'dirpath':dirpath, 'filenames':filenames})\n",
    "        "
   ]
  },
  {
   "cell_type": "markdown",
   "metadata": {},
   "source": [
    "### Initial string cleaning\n",
    "\n",
    "**TODO: improving text cleaning will provide fundamental improvements.**"
   ]
  },
  {
   "cell_type": "markdown",
   "metadata": {},
   "source": [
    "### Simple topic extraction can be used to cluster documents. "
   ]
  },
  {
   "cell_type": "code",
   "execution_count": 11,
   "metadata": {},
   "outputs": [],
   "source": [
    "def phrases_extract(text):\n",
    "    r = Rake()\n",
    "    r.extract_keywords_from_text(text)\n",
    "    key_phrase = r.get_ranked_phrases() # To get keyword phrases ranked highest to lowest.\n",
    "    \n",
    "    return key_phrase"
   ]
  },
  {
   "cell_type": "markdown",
   "metadata": {},
   "source": [
    "## Keyword Search\n",
    "\n",
    "Using keywords to link publication to Kaggle tasks."
   ]
  },
  {
   "cell_type": "code",
   "execution_count": 12,
   "metadata": {},
   "outputs": [],
   "source": [
    "with open('../tasks/keywords.json') as json_file:\n",
    "    keywords = json.load(json_file)\n",
    "\n",
    "def identify_tasks(text, keywords):\n",
    "    text = lemmatizer.lemmatize(text)\n",
    "    task_list=[]\n",
    "    for k,v in keywords.items(): \n",
    "        if any(x in text for x in v['keywords']):\n",
    "            task_list.append(k)  \n",
    "    return task_list\n"
   ]
  },
  {
   "cell_type": "markdown",
   "metadata": {},
   "source": [
    "## Apply each of the techniques outline above to each publication and aggrigate findings."
   ]
  },
  {
   "cell_type": "code",
   "execution_count": 14,
   "metadata": {},
   "outputs": [
    {
     "ename": "TypeError",
     "evalue": "imap_unordered() got an unexpected keyword argument 'total'",
     "output_type": "error",
     "traceback": [
      "\u001b[1;31m---------------------------------------------------------------------------\u001b[0m",
      "\u001b[1;31mTypeError\u001b[0m                                 Traceback (most recent call last)",
      "\u001b[1;32m<ipython-input-14-cd9c17490dd2>\u001b[0m in \u001b[0;36m<module>\u001b[1;34m\u001b[0m\n\u001b[0;32m     43\u001b[0m \u001b[1;33m\u001b[0m\u001b[0m\n\u001b[0;32m     44\u001b[0m \u001b[0mpool\u001b[0m \u001b[1;33m=\u001b[0m \u001b[0mPool\u001b[0m\u001b[1;33m(\u001b[0m\u001b[1;36m11\u001b[0m\u001b[1;33m)\u001b[0m\u001b[1;33m\u001b[0m\u001b[1;33m\u001b[0m\u001b[0m\n\u001b[1;32m---> 45\u001b[1;33m \u001b[1;32mfor\u001b[0m \u001b[0m_\u001b[0m \u001b[1;32min\u001b[0m \u001b[0mtqdm\u001b[0m\u001b[1;33m(\u001b[0m\u001b[0mpool\u001b[0m\u001b[1;33m.\u001b[0m\u001b[0mimap_unordered\u001b[0m\u001b[1;33m(\u001b[0m\u001b[0mprocess_document\u001b[0m\u001b[1;33m,\u001b[0m \u001b[0mzip\u001b[0m\u001b[1;33m(\u001b[0m\u001b[0mdirectory_list\u001b[0m\u001b[1;33m,\u001b[0m \u001b[0mfile_list\u001b[0m\u001b[1;33m)\u001b[0m\u001b[1;33m,\u001b[0m \u001b[0mtotal\u001b[0m\u001b[1;33m=\u001b[0m\u001b[0mlen\u001b[0m\u001b[1;33m(\u001b[0m\u001b[0mfile_list\u001b[0m\u001b[1;33m)\u001b[0m\u001b[1;33m)\u001b[0m\u001b[1;33m)\u001b[0m\u001b[1;33m:\u001b[0m\u001b[1;33m\u001b[0m\u001b[1;33m\u001b[0m\u001b[0m\n\u001b[0m\u001b[0;32m     46\u001b[0m     \u001b[1;32mpass\u001b[0m\u001b[1;33m\u001b[0m\u001b[1;33m\u001b[0m\u001b[0m\n\u001b[0;32m     47\u001b[0m \u001b[0mpool\u001b[0m\u001b[1;33m.\u001b[0m\u001b[0mclose\u001b[0m\u001b[1;33m(\u001b[0m\u001b[1;33m)\u001b[0m\u001b[1;33m\u001b[0m\u001b[1;33m\u001b[0m\u001b[0m\n",
      "\u001b[1;31mTypeError\u001b[0m: imap_unordered() got an unexpected keyword argument 'total'"
     ]
    }
   ],
   "source": [
    "\n",
    "def process_document(location):\n",
    "    directory, file = location\n",
    "    file_path = directory + '/' + file\n",
    "    file_save = directory + '_extract/' + file\n",
    "\n",
    "    if os.path.isfile(file_save):\n",
    "        pass\n",
    "    else:\n",
    "        pub = document(file_path)\n",
    "        pub.clean_text()\n",
    "\n",
    "\n",
    "        try:\n",
    "            pub.key_phrases = phrases_extract(pub.abstract)[0:5]\n",
    "        except:\n",
    "            pass\n",
    "\n",
    "        try:\n",
    "            pairs, ents = get_entity_pairs(pub.abstract)\n",
    "            pub.abstract_tripples = pairs.to_json()\n",
    "        except:\n",
    "            pub.abstract_tripples = '{\"subject\":{},\"relation\":{},\"object\":{},\"subject_type\":{},\"object_type\":{}}'\n",
    "\n",
    "        try:\n",
    "            pairs, ents = get_entity_pairs(pub.text)\n",
    "            pub.text_tripples = pairs.to_json()\n",
    "            pub.entities = ents \n",
    "        except:\n",
    "            pub.text_tripples = '{\"subject\":{},\"relation\":{},\"object\":{},\"subject_type\":{},\"object_type\":{}}'\n",
    "\n",
    "        try:\n",
    "            pub.save(file_save)\n",
    "        except:\n",
    "            pass\n",
    "\n",
    "directory_list =[]\n",
    "file_list = []\n",
    "for file in files:\n",
    "    directory = file['dirpath']\n",
    "    for filenames in file['filenames']:\n",
    "        directory_list.append(directory)\n",
    "        file_list.append(filenames)\n",
    "        \n",
    "pool = Pool(11)\n",
    "for _ in tqdm(pool.imap_unordered(process_document, zip(directory_list, file_list)), total=len(file_list)):\n",
    "    pass\n",
    "pool.close()\n",
    "pool.join()\n",
    "            "
   ]
  },
  {
   "cell_type": "code",
   "execution_count": null,
   "metadata": {},
   "outputs": [],
   "source": [
    "file_save"
   ]
  },
  {
   "cell_type": "code",
   "execution_count": null,
   "metadata": {},
   "outputs": [],
   "source": [
    "pairs"
   ]
  },
  {
   "cell_type": "code",
   "execution_count": null,
   "metadata": {},
   "outputs": [],
   "source": []
  }
 ],
 "metadata": {
  "kernelspec": {
   "display_name": "Python 3",
   "language": "python",
   "name": "python3"
  },
  "language_info": {
   "codemirror_mode": {
    "name": "ipython",
    "version": 3
   },
   "file_extension": ".py",
   "mimetype": "text/x-python",
   "name": "python",
   "nbconvert_exporter": "python",
   "pygments_lexer": "ipython3",
   "version": "3.7.6"
  }
 },
 "nbformat": 4,
 "nbformat_minor": 4
}
