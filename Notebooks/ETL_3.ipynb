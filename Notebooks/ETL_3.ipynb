{
 "cells": [
  {
   "cell_type": "markdown",
   "metadata": {},
   "source": [
    "# ETL Entity and Topic Extraction\n",
    "\n",
    "This notebook will aim to extract important topics from documents all documents. \n",
    "The output will be a cleaned dataset containing all text content for analysis."
   ]
  },
  {
   "cell_type": "code",
   "execution_count": 1,
   "metadata": {},
   "outputs": [],
   "source": [
    "import sys\n",
    "\n",
    "sys.path.append(r'c:\\users\\owner\\appdata\\roaming\\python\\python37\\site-packages')\n",
    "sys.path.append(r'..\\tools')\n",
    "\n",
    "\n",
    "import scispacy\n",
    "from scispacy.abbreviation import AbbreviationDetector\n",
    "import spacy\n",
    "import pandas as pd\n",
    "import json\n",
    "import os\n",
    "import re\n",
    "from tqdm.notebook import tqdm\n",
    "from rake_nltk import Rake\n",
    "from spacy.matcher import Matcher \n",
    "import en_core_web_lg\n",
    "\n",
    "from nltk.stem import WordNetLemmatizer \n",
    "import nltk\n",
    "                \n",
    "from loading.document import document\n",
    "from NER.tripple_extract import get_entity_pairs\n",
    "from concurrent import futures\n",
    "\n",
    "from multiprocessing import Pool\n",
    "\n",
    "\n",
    "\n"
   ]
  },
  {
   "cell_type": "markdown",
   "metadata": {},
   "source": [
    "## Identify and load file directories"
   ]
  },
  {
   "cell_type": "code",
   "execution_count": 2,
   "metadata": {},
   "outputs": [],
   "source": [
    "directories = ['../data/biorxiv_medrxiv/', '../data/comm_use_subset/','../data/custom_license/', '../data/noncomm_use_subset/']"
   ]
  },
  {
   "cell_type": "code",
   "execution_count": 3,
   "metadata": {},
   "outputs": [],
   "source": [
    "files = []\n",
    "for directory in directories:\n",
    "    for (dirpath, dirnames, filenames) in os.walk(directory):\n",
    "        filenames = [names for names in filenames if '.json' in names]\n",
    "        if filenames != []:\n",
    "            files.append({'dirpath':dirpath, 'filenames':filenames})\n",
    "        "
   ]
  },
  {
   "cell_type": "markdown",
   "metadata": {},
   "source": [
    "### Initial string cleaning\n",
    "\n",
    "**TODO: improving text cleaning will provide fundamental improvements.**"
   ]
  },
  {
   "cell_type": "markdown",
   "metadata": {},
   "source": [
    "### Simple topic extraction can be used to cluster documents. "
   ]
  },
  {
   "cell_type": "code",
   "execution_count": 4,
   "metadata": {},
   "outputs": [],
   "source": [
    "def phrases_extract(text):\n",
    "    r = Rake()\n",
    "    r.extract_keywords_from_text(text)\n",
    "    key_phrase = r.get_ranked_phrases() # To get keyword phrases ranked highest to lowest.\n",
    "    \n",
    "    return key_phrase"
   ]
  },
  {
   "cell_type": "markdown",
   "metadata": {},
   "source": [
    "## Keyword Search\n",
    "\n",
    "Using keywords to link publication to Kaggle tasks."
   ]
  },
  {
   "cell_type": "code",
   "execution_count": 5,
   "metadata": {},
   "outputs": [],
   "source": [
    "with open('../tasks/keywords.json') as json_file:\n",
    "    keywords = json.load(json_file)\n",
    "\n",
    "def identify_tasks(text, keywords):\n",
    "    text = lemmatizer.lemmatize(text)\n",
    "    task_list=[]\n",
    "    for k,v in keywords.items(): \n",
    "        if any(x in text for x in v['keywords']):\n",
    "            task_list.append(k)  \n",
    "    return task_list\n"
   ]
  },
  {
   "cell_type": "markdown",
   "metadata": {},
   "source": [
    "## Apply each of the techniques outline above to each publication and aggrigate findings."
   ]
  },
  {
   "cell_type": "code",
   "execution_count": 6,
   "metadata": {},
   "outputs": [],
   "source": [
    "directory_list =[]\n",
    "file_list = []\n",
    "for file in files:\n",
    "    directory = file['dirpath']\n",
    "    for filenames in file['filenames']:\n",
    "        directory_list.append(directory)\n",
    "        file_list.append(filenames)"
   ]
  },
  {
   "cell_type": "code",
   "execution_count": 13,
   "metadata": {},
   "outputs": [],
   "source": [
    "def process_document(location):\n",
    "    directory, file = location\n",
    "    file_path = directory + '/' + file\n",
    "    file_save = directory + '_extract/' + file\n",
    "\n",
    "    if os.path.isfile(file_save):\n",
    "        pass\n",
    "    else:\n",
    "        try:\n",
    "            pub = document(file_path)\n",
    "            pub.clean_text()\n",
    "            try:\n",
    "                pairs, ents = get_entity_pairs(pub.abstract)\n",
    "                pub.abstract_tripples = pairs.to_json()\n",
    "            except:\n",
    "                pub.abstract_tripples = '{\"subject\":{},\"relation\":{},\"object\":{},\"subject_type\":{},\"object_type\":{}}'\n",
    "\n",
    "            try:\n",
    "                pairs, ents = get_entity_pairs(pub.text)\n",
    "                pub.text_tripples = pairs.to_json()\n",
    "                pub.entities = ents \n",
    "            except:\n",
    "                pub.text_tripples = '{\"subject\":{},\"relation\":{},\"object\":{},\"subject_type\":{},\"object_type\":{}}'\n",
    "\n",
    "            try:\n",
    "                pub.save(file_save)\n",
    "            except:\n",
    "                pass\n",
    "        except:\n",
    "            pass"
   ]
  },
  {
   "cell_type": "code",
   "execution_count": null,
   "metadata": {},
   "outputs": [
    {
     "data": {
      "application/vnd.jupyter.widget-view+json": {
       "model_id": "e7145b79485b4652b8d0980dbbc933a3",
       "version_major": 2,
       "version_minor": 0
      },
      "text/plain": [
       "HBox(children=(FloatProgress(value=0.0, max=37953.0), HTML(value='')))"
      ]
     },
     "metadata": {},
     "output_type": "display_data"
    }
   ],
   "source": [
    "for item in tqdm(list(zip(directory_list, file_list))):\n",
    "    process_document(item)\n"
   ]
  },
  {
   "cell_type": "code",
   "execution_count": null,
   "metadata": {},
   "outputs": [],
   "source": []
  },
  {
   "cell_type": "code",
   "execution_count": null,
   "metadata": {},
   "outputs": [],
   "source": []
  },
  {
   "cell_type": "code",
   "execution_count": null,
   "metadata": {},
   "outputs": [],
   "source": []
  },
  {
   "cell_type": "code",
   "execution_count": null,
   "metadata": {},
   "outputs": [],
   "source": []
  }
 ],
 "metadata": {
  "kernelspec": {
   "display_name": "Python 3",
   "language": "python",
   "name": "python3"
  },
  "language_info": {
   "codemirror_mode": {
    "name": "ipython",
    "version": 3
   },
   "file_extension": ".py",
   "mimetype": "text/x-python",
   "name": "python",
   "nbconvert_exporter": "python",
   "pygments_lexer": "ipython3",
   "version": "3.7.6"
  }
 },
 "nbformat": 4,
 "nbformat_minor": 4
}
